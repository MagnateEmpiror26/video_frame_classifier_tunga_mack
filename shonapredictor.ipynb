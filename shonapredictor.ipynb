{
  "cells": [
    {
      "cell_type": "markdown",
      "metadata": {
        "id": "view-in-github",
        "colab_type": "text"
      },
      "source": [
        "<a href=\"https://colab.research.google.com/github/MagnateEmpiror26/video_frame_classifier_tunga_mack/blob/main/shonapredictor.ipynb\" target=\"_parent\"><img src=\"https://colab.research.google.com/assets/colab-badge.svg\" alt=\"Open In Colab\"/></a>"
      ]
    },
    {
      "cell_type": "markdown",
      "metadata": {
        "id": "0821e096"
      },
      "source": [
        "**Shona Dataset**"
      ],
      "id": "0821e096"
    },
    {
      "cell_type": "code",
      "execution_count": null,
      "metadata": {
        "colab": {
          "base_uri": "https://localhost:8080/"
        },
        "id": "56EfGiQG9C1H",
        "outputId": "c6553a9f-5715-457e-b9b7-7eb18a2d855d"
      },
      "outputs": [
        {
          "output_type": "stream",
          "name": "stdout",
          "text": [
            "Mounted at /content/drive\n"
          ]
        }
      ],
      "source": [
        "from google.colab import drive\n",
        "drive.mount('/content/drive')"
      ],
      "id": "56EfGiQG9C1H"
    },
    {
      "cell_type": "code",
      "execution_count": null,
      "metadata": {
        "id": "a930081c"
      },
      "outputs": [],
      "source": [
        " file = open(\"/content/drive/MyDrive/kurumwanechekucheraDS.txt\",\"r\")\n",
        "data_set = file.read()"
      ],
      "id": "a930081c"
    },
    {
      "cell_type": "code",
      "execution_count": null,
      "metadata": {
        "colab": {
          "base_uri": "https://localhost:8080/",
          "height": 140
        },
        "id": "8N4iNGbUEXc5",
        "outputId": "4fd3d7d1-ec49-4131-e8be-6ced0b7272f5"
      },
      "outputs": [
        {
          "output_type": "execute_result",
          "data": {
            "text/plain": [
              "'Murooraaa!\\nTauya naye!\\nMurooraaa!\\nTauya nayee\\nMurooraa\\nTauya naye\\nnemagumbezee\\nMudunhu rekwaChitororo yaiva\\nburushashike vanhu vachifarira muroora\\nmutsva anga awuya mumusha\\nwekwaNhoto. Ivo vaNhoto vainzwa\\nmanyuku nyuku nekuti mwanakomana\\nwavo mukuru Wayne anga avaunzira\\nndangaruvazhe.\\nWayne anga avakushanda mudhorobha\\nriripedyo nedunhu ravo. Kubva\\npaakapedza zvidzidzo zvake zveOlevel\\nakabva angoenda kudhorobha\\nkunoshava. Akabva awana basa\\nkwaPower Sales. Ikoko kudhorobha ndiko\\nkwaakasangana netsvarakadenga yake\\nyainzi Rosemary Chuma.\\nVakafambidzana mwedzi yakati kuti\\nkusvika vaviri ava vapanana pamuviri.\\nVakabva vatoronga zvekutizisana.\\nMaChuma akabva atora vana tete vake\\nvaviri vakava ndivo vakamuperedza.\\nPavakasvika mudunhu raChitororo\\nvakambogara pamba pabamunini\\nvaWayne mazuva matatu muroora asati\\naperekwa mumusha memurume wake.\\nZuva rekuperekwa kwake rakazosvika.\\nMunhu wese mudunhu iri anga\\nakarimirira zuva iri. Dunhu rese\\nrakaturunuka kuzoona svusvurandadya\\nyanga yaunzwa naWayne mumusha\\nwekwaNhoto. Musikana anga akaumbwa\\nhake iyeye. Ndivo vanonzi Mwari vakatora\\nnguva yavo vachinatsosika. Hapana\\nmurume ayisayemura kuumbwa\\nkwaRosemary. Anga ariruva chairo sezita\\nrake. Asi Wayne ndiye anga ayita rombo\\nrakanaka kuvarume vese kuva\\nnetsvarakadenga iyi.\\nMari dzaikandwa kani munhu wese\\nachingorumbidza mhando yemudzimai\\nyanga yaunzwa naWayne. Vakaimba\\nvakomana nevasikana muroora\\nachifambiwa naye kubva kwabamunini\\nbaba Stern kuenda kwavatezvara vake.\\nWayingoti fambe fambe obva amira mari\\nichikandwa. Pagedhi muroora ndipo\\npaakambonetsa chose achiramba\\nkufamba kuratidza kuti mari yaikandwa\\nyaiva shoma. Vakatanga vachamutukirira\\nkusvika vapererwa nezano. Vatezvara\\nndivo vakazobudisa chitsama chemari\\nachibva afamba kunosvika padoor. Apo\\npakamboita nyaya kusvika vanhu\\nvazoudza Wayne kuti aburitse Mari. Iye\\nWayne wacho ayinzwa kuzvirova\\ndundundu nekuti munhu wese akanga\\namboona Rosemary ayingomurumbidza.\\nAkapindwa naye muroora mumba mari\\nikabiswa kuti jira rakamufukidza ribiswe\\nkumeso. Richibiswa kudayi munhu wese\\nakamira hoo nerunako rwaiva\\nnamaChuma. Madzimai akaridza\\nmipururu nekutamba.Mbuya Rukondo\\nvakabva vaita kurova zvavo chikwee\\nvachisimuka pavanga vakagara.\\n\"Haiwawo Wayne muzukuru wangu\\nhapana zvawaita apa. Kutiunzira\\nmapendeka emumadhorobha menyu\\numu. Guyu kutsvukira mukati mune\\nmasvosve. Hezvino ndiripano, wakasiya\\nini bhogosvogodo yako uchida njuzu\\nyemumasuweji iyi?\"\\nVanhu vakati bvuu kuseka. Vanhu vese\\nvakabva vatanga kunyomba muroora. Iyi\\nitsika yagara ichiitwa kuti kana muroora\\nachiperekwa anombonyombewa. Vamwe\\nvanonyombewa kusvika vasvimha\\nmisodzi. Asi maChuma ayiratidza kuti ane\\nmoyo wakasindimara. Anga akaita\\nkuburitsa ziso rakachena kuti wekee\\nsemukaka achitarisa munhu wese\\nayivemo. Mumwe mukadzi akabva\\narudinhura rumbo runonzi \"Chimhuka\\nkwindi\"\\nMwana wenyu chimhukakwindi.....\\nHeheheee Chimhukakwindi....\\nHuya uwone chimhukakwindi....\\nHeheee chimhukakwindi.....\\nVanhu vakasimuka kwakutanga kuimba\\nnekutamba. Mamwe madzimai ayiita\\nkutamba achiita kumuzunzira\\nmazakwatira. Iye maChuma wacho kana\\nkugaya zvake. Ayitoratidza kuti\\nayinakidzwa nazvo.\\nMbuya Rukondo: Mukadzi mutsvuku\\nakasaba anoroya. Hona ziso racho. Gore\\nrino zvatichaoneswa muno maChitororo\\nhohodo seka zvako mukadzi iwe shonga!.\\nMai Stern: Ummm mbuya mamunyanyira\\nmuroora wangu. Mhodzi yechingwa\\nyaWayne iyi. Takutopenderwawo rudzi.\\nNaiwo magorosviba ekwaNhoto aya.\\nWayne akagona rudzi rwopihwawo pendi\\nkwayo.\\nMbuya Rukondo: Regayi\\nndimuporovhoke. Ndoda kuona kuti\\nhaana hasha here. Ndiye akatanga\\nkunditorera chikomba changu.\\nVanhu vese vakafa zvavo nekuseka.\\nRaiva zuva rekufara. Vasikana\\nnevakomana vayiimba vachitamba jiti vari\\npanze. Varume ndivo vanga vakagara\\nvakakomba choto panze vachiita nyaya\\ndzavo dzakasiyana siyana. Madzimai\\nnemambuya vaiva nemuroora mumba.\\nMusha wese wekwaNhoto wanga wakati\\ndzvarara nevanhu uchingova mufaro\\nbedzi bedzi.\\nHusiku hwese vanhu havana kana\\nkudzipwanya kuchiimbiwa nekutamba.\\nVanhu vakazotanga kuparara kunze\\nkwava kuda kutoedza. Pakazongosara\\nvehukama vepedo. Zuva rakazosara\\nrobuda muroora nanatete vake\\nvatotsvaira chivanze. Vanga\\nvatokuhwidza moto mvura dzekugeza\\ndzava kutofashaira. Vanhu vachimuka\\nvakatanga kupihwa mvura dzekugeza\\nzvirango zvese zvichiitwa. Hapana asina\\nkufara nekuuya kwamaChuma nekuti\\nndiye anga ari ndangaruvazhe mumusha\\nwavaNhoto.\\nHama dzakazoswera dzakuparara umwe\\nneumwe achienda kumba kwake. Vana\\ntete vamaChuma vakabva vangoonekawo\\nnekuenda. Ivo mari vanga vaikumba\\nhavo. Pamusha pakazongosara mhuri\\nsezvairi. MaChuma Ayiedza\\nnepaanogona napo kuita tsikawo ka\\nsemuroora. Ayiita seachati mamukasei\\ngukurume, mamukasei bhoki. Kana kitsi\\nchaiyo ichipfuura ayitodziura.\\nNdiwo mauyiro akaita Rosemary\\nmumusha wekwaNhoto. Hama dzose\\ndzakamutambira nemaoko maviri. Svondo\\nrakasvika kupera nyaya ichingova\\nyerunako rwemudzimai waWayne\\nmudunhu rese. Uye Wayne anga ayita\\nkutora iri leave kuti ambowana nguva\\nyekusasana nemudiwa. Zvaingoswera\\nzvichiteverana kose kuchibhorani\\nnekuhuni. Rudo rwanga ruchiita kunonzi\\nkupfuta moto.\\nWayne anga ariiye mukomana mukuru\\nmumba mababa vake achiteerwa\\nnemusikana Wendy anga akatoroorwa.\\nKozouya matwins mukomana\\nnemusikana Chido naSimba vanga\\nvakamirira maresults eO\\'level.\\nKumashure kwana twin kwaiva\\nnemusikana ayinzi Melisa kopedzisira\\nRujeko musikana zvekare. Saka mhuri\\nyekwana Wayne yaiva nevana vatanhatu,\\niye Wayne ariye ega anga avakushanda.\\nVaNhoto vayigara muruzevha\\nrwekwaChitororo kubva zvavaroorana\\nnemudzimai wavo. Vairarama nemabasa\\nekurima vachinotengesa zvirimwa zvavo\\nmudhorobha raiva pedyo nedunhu ravo.\\nMudunhu mavo maiva neIrrigation\\nscheme. Vairima zvirimwa zvakasiyana\\nsiyana kubva kuChibage, gorosi, beans,\\nnemiriwo yakasiyana siyana.\\nZvemumaruwa ndingati vairarama\\nhupenyu hwavo hurinani. Zvekudya\\nzvaiva sarura ude pamusha pavaNhoto.\\nVayiva nezvipfuwo zvinoti huku,\\nmangarukuni, mbudzi pamwechete\\nnemombe.\\nMazuva akafamba leave yaWayne\\nichiendawo kunopera. Rimwe zuva vanga\\nvakatandara havo semhuri nyaya\\ndzichitsva. Wayne akabva atora mukana\\niwoyo kuzivisa vabereki vake kuti anga\\nakudzokera kubasa.\\n\"Baba namai ini ndasara nezuva rimwe\\nchete kuti ndichidzokera kubasa. Tikarara\\ntikamuka tikarara chifume chacho\\nndinenge ndakufanira kuenda\\nkubasa.\"akadaro achiita kusekerera.\\n\"Hapana chakaipa mwanangu, mhuri\\nyawakatiunzira iyi ndipo pawakatigonera.\\nHanditi anombosara hake?\" vakadaro\\nbaba vake\\nWayne akatora nguva akanyarara achiita\\nseanofunga ndokuzoti\\n\"Yeah sure anombosara zvake......\"\\nAsati apedza kutaura anga atogamhiwa\\nnamaChuma. Izwi rake riripamusoro\\nzvekuti baba namai Wayne vakaita\\nkuvhunduka.\\n\" Haushuri nhaiwe Wayne? Ini chaiye\\nkusara kuno kumusha kunonhuwa ndove\\nndichisarira ani?\"\\nAkadaro maChuma akaita kumisa\\nmutsipa wake unenge webhiza ramambo.\\nMai Wayne vakangoshama muromo\\nkuratidza kukahadzika. Wayne wacho\\nhaana chaakapindura anga akuita sehuku\\nyanaiwa. Apa mwanasikana\\nwekwaChuma anga akuita kupupa furo.\\nBaba vaWayne ndivo vakatozodzimura\\nMoto voti.....\\n\"Ayewa muroora hazvinzarwo.\\nMunotaurirana nemurume wenyu. Wayne\\ntoranayi muende kuimba yenyu\\nyekurara.\"\\nWayne akasimuka ndokutanga kufamba\\nmaChuma arimumashure\\nachingon\\'un\\'unira. Hasha dzake dzanga\\ndzava muhuro setsvina yemhashu.\\nZvekumusha ndizvo zvaanga asingadi\\nzvachose.\\n*Rosemary*\\nZita rangu ndinonzi Rosemary Chuma.\\nNdakazvarwa mumhuri ine vana vana\\nndiriini wekupedzisira. Vasikana tiri vatatu\\nnemukomana umwe chete. Ndakakurira\\nzvangu kumaruwa uye zvinhu zvisina\\nkumira zvakanaka nekuti baba vangu\\nvaisashanda. Nhamo chaiyo ndiyo\\nyatakatamba paruzevha\\nrwekwaMashuku.Mashuku ndiro zita\\nrekumusha kwangu. Sisi vangu\\nvakatozoroorwa vari form 2 nekuda\\nkwenhamo chaiyo. Murume wavo\\nayishanda kudhorobha saka\\npandakazonyorawo form 4 yangu sisi\\nvakabva vanditora kwakutanga kugara\\nneni. Form 4 yacho ndakabura zvangu\\nzero asi ndaisava nebasa nazvo nekuti\\nndaivawo nechipo changu cherunako.\\nNdakatapirirwa nehupenyu\\nhwemudhorobha zvekuti ndakazviudza\\nkuti chero zvoita sei handichagari futi\\nmumaruwa. Pandakasangana naWayne\\nachishanda kwaPowersales\\nndakazviudza kuti uyu wemudhorobha\\nndiye chaiye ayikodzera kuita murume\\nwangu. Ko ndaiziveyi hangu?\\nPakuumbwa isu vana Rose tisu\\ntakaumbwa Mwari vane nguva.\\nNdakakura ndichingoziva kuti ndakanaka\\nnekuti ndaingonzwa vanhu vachitaura kuti\\n\"vachabayana nemapanga\" kureva\\nvarume. Izvozvo zvakaita kuti nditange\\nkuziva varume ndiri grade 5. Pachikoro\\nzvikomana zvaitondirwira nekuti hapana\\nayisada kuva wangu. Kuzonopedza form\\n4 hapana chandanga ndisisazive nefamily\\nplaning chaiyo. Kana mamwe mateacher\\nepachikoro ndakatombomhanya nawo.\\nNdanga ndisina kureba ndisina kupfupika\\nkureva kuti ndanga ndiri pakati nepakati.\\nNdine chiuno chakadzvinyingara sego\\napa macurves aya haasi enhamo.\\nPachiso apa ndipo panga pakaperera\\nshungu dzaMwari. Ndiri mushava ndine\\nchiso chirefu nekapunokiwa. Nzeve,\\nmhino nemuromo zvose\\nzvakanatsorongedzwa pasina chaungati\\nichi hachina kumira zvakanaka. Maziso\\nndiwo akaita mahombe asi kukura kwawo\\nikoko ndiko kwayinyanyondinakisa.\\nPakataurwa yekusara kumusha Wayne\\nachidzokera kubasa ndakanzwa hasha\\ndzichiita kusimuka. Ini manje nezvandiri\\nndakuroorerwa kugariswa kumusha\\nsegejo? Haa bodo izvo ndizvo zvandanga\\nndisingaiti zvachose. Kana vasingandizivi\\napa ndipo pandaida kuvaratidza hunhu\\nhwangu chaihwo. Ndinonzi maChuma ini\\nmwana waChihera handiitirwi izvozvo\\nzvemakanda enguruve.\\nAkatungamira Wayne tichienda\\nkubedroom kwedu ini ndichiita\\nkubhidhaira ndirimumashure make.\\nNdayiita kufemera pamusoro sendere.\\nZvekujairirwa ndaimbozvida here ini.\\nAkapinda mumba akabatidza chibani\\nndokumira akanditarisa. Ndakasvika\\nndichizviwisira pamubhedha ndakamirira\\nkunzwa zvaayida kutaura. Munhu\\nkutosunga chiso manje ini\\nhandivhunditsirwi nemagaba\\nsemhembwe. Ndakatowedzera\\nkusungawo changu. Ndakaona munhu\\nopfugama pamberi pangu ndokuti.....\\n\"Babe ndoziva haufariri kugara kumusha\\nasi ndokumbirawo ungosara kwenguva\\ndiki. Ndoda kunotsvaga pakanaka\\npekugara uye iwe uchimbojairanawo\\nnevabereki vangu nevanin\\'ina vangu.\"\\nKutonyengererwa ikoko ndakabva\\nndanatsonzwa manyawi.\\n\"Ndojairana navo chii chacho? Ndivo\\nvandakavinga here ini?\"ndakadaro\\nnenzwi rizere nehukasha.\\n\"MaChuma mudzimai wangu handiti\\nunoziva kuti hatisati tanobisa mari dzaana\\ntezvara? Zvese izvozvo zvinofanira kuitwa\\niwe uchibva kuno. Ndikaenda panopera\\nmwedzi ndouya toenda kwanaTezvara\\nkunovapa mari dzavo. Kana tadaro\\nndobva ndatakurana newe toenda kumba\\nkwedu. Unofanira kuziva kuti zvakaitika\\nizvi zvakaitika tisina kuzvitarisira ini\\nwacho ndisati ndanatsorongeka. Unoti\\nndingada kuti murungu wangu akaita\\nsewe ageze mvura inogezwa\\nnematatya?\"\\nPakunzwa yekunobisirwa ndakabva\\nndanyevenutsa chiso. Kubva pandatanga\\nkugara naWayne ndaigaromubvunza kuti\\nndosvika rini vabereki vangu vasina kana\\nkiti yavapihwa. Pakunondibisira apa anga\\nawuya zvakanaka Wayne. Ndaiziva kuti\\nkana ndabisirwa ndochinatsodzika midzi\\nyangu.\\n\"Ok ndosara hangu asi ini zvekugariswa\\nkumusha segejo ndizvo zvandisingadi.\\nPlus kuno kumusha kwenyu kwakazara\\nvaroyi ndotya kudyirwa mwana wangu\"\\nNdakadaro nekanzwi katete tete ndakuita\\nkakuyemerera.\\n\"Haaa babe wakaona ani anoroya?\\nThanks maChuma wangu nekunzwisisa.\"\\nAkadaro Wayne kubva andimbundira.\\nNdakanatsonzwa kuti ndinodiwa.\\n\"Horaiti......asi imwe nyaya isingandiitiri\\nhangu ndeyekushanda kuIrrigation. Isu\\nkwedu hatina kumbokura tichifondotswa\\nsemadhongi zvinoitwa kuno izvi. You\\nbetter tell your parents vasasara\\nvachindishandisa. More over I\\'m carrying\\nyour child Wayne\"\\n\" It\\'s ok my love. Ndichataura navo.\"\\nTakabva tatanga kutsvodana\\nkwakufadzana zvedu. Ndakarara ndichiti\\nndikangofunga yekusara kumusha hana\\nyangu yorova. Mai vaWayne ndaivaona\\nzvangu kuda kutonga tonga\\nnekundiudzira zvekuita. Manje apa ndaida\\nkusara ndichivapinza mugwara chaimo.\\nPose apa ndaitonyara zvangu Wayne\\nmanje kana andisiya taisara\\ntichigadzirisana chete.\\nZuva rakatevera ndakanonoka zvangu\\nkumuka ndichinyepera kurwara.\\nNdakamuka vanhu vose vatomuka. Tete\\nChido vaisuka ndiro vari panze vana\\nmhamha hameno kwavanga vaenda.\\nNdakaenda pavanga vari ndokusvikomira.\\n\"Mamukasei maiguru? Ko hindava kurara\\nkudaro asi marwara?\"\\n\"Ndingatadza kurwara nenyaya dzepano?\\nKo vamwe vaenda kupi?\"ndakadaro\\nndichitofinyamisa chiso zvangu.\\n\"Vaenda kumaridge kuIrrigation vanga\\nvati kana mamuka tigotevera. Manje\\nzvamati murikurwara handioni zvichiita.\"\\n\"Yah hazviiti, mugouya motora hembe\\ndzabhudhi venyu dzinoda kuwachiwa.\\nHanditi vanoenda mangwana? Ini handina\\nkana simba.\"\\n\"Ok maiguru. Regai ndipedzise kusuka.\"\\nAka katete kanga kakatodzungaira zvako.\\nNdiko kandaisara ndichishandisa zvangu.\\nNdakadzokera kuroom kwangu\\nndokuwaridza mubhedha. Ndakabva\\nndangosheedzera tete Chido kuti kana\\nvakuuya kuzotora hembe vabve vauya\\nnemutsvairo. Ndakanatsozvambarara\\npamubhedha pasina nguva ndakanzwa\\nknock.\\n\"Pindayi\" ndakadaro ndichimuka\\nndichigara.\\n\" Ndauya maiguru chindipayi hembe\"\\nvakadaro vakamira padoor.\\n\"Pindayi henyu mutange matsvaira muno.\\nIni miviri hayisi kuita kwazvo.\"\\nVakapinda vakatanga kutsvaira ini\\nndichiburitsa hembe. Ndakabva\\nndangoisawo nedzanguwo ipapo. Ko\\nndini ndadii zvangu. Vakatsvaira nemoyo\\nwese ini ndichingoraira kuti apo neapo.\\nVakapedza vakabuda vakaenda\\nkunowacha. Ndakasara ndikatora mvura\\nmumba kwakuzvipodogora zvangu.\\nNdapedza ndakanyatsorova poda yangu\\nkwakuzvambarara pamubhedha\\nndichiverenga manovel emumafon\\nakadayi kuuya awa. Ko kutyeyi zvangu.\\nChido ayifanira kuuya obika. Ndaiziva kuti\\nkana vanhu vaenda kumaridge vanogona\\nkudzoka kuzvi 11 Chido anenge\\napedzawo kuwacha. Ndakazongobatwa\\nnehope ndichiverenga kudaro.\\nNdakatozoita wekumutswa naWayne.\\nNdakapukuta maziso angu ndokuzamura\\nndichimuka.\\n\"Babe ndanzwa Chido achiti hausi\\nkunzwa zvakanaka. Ko chii futi?\"\\n\"Ndofunga ibp. Hauzivi kuti vanhu\\nvakazvitakura havafaniri kushungurudzwa\\nhere?\"\\n\"Iiih saka zvakaoma. Chiuya\\nudye.....everyone is worried about you.\"\\nNdakasimuka kwakuteverana naWayne\\ntichienda kuimba yekubikira. Takasvika\\nvanhu vakutopedza kumwa tea.\\nNdakavamutsa ndokugara zvangu Chido\\nakatanga kundisevha tea.\\n\"Ndanzwa kuti miiri yadzimba\\nmwanangu?\"\\nVakadaro Mai Wayne vaine chiso chine\\nkushungurudzika. Izvozvo ndizvo\\nzvandaida chaizvo.\\n\"Yah asi ndirinani hangu. Pandarara\\nndamuka ndakunzwa zvirinani.\"\\nNdakadaro ndakutodzvuta tea yangu.\\nWayne akabva asekerera akanditarisa.\\n\"Ndanga ndakutofunga kutibhandichasiyi\\nmukadzi wangu.\"\\n\"Don\\'t worry dear. Ndosara. Handiti\\nmhamha nababa varipo here?\"\\nNdanga ndafunga kusara ndichimbopinza\\nvanhu ava chikoro zvekuti pose pavainzi\\nmaChuma anosara vaifanira kuramba\\nvega. Vanga vasingandizivi zvakanaka\\nvanhu ava.\\nTakazoswera zvakanaka ini\\nndichirongedza hembe dzemurume\\nwangu. Zuva rakatevera takamuka\\ntakananga kuchiteshi kunoperekedza\\nwangu murume. Kuchiteshi kwacho\\nkwaiva nekamufambo zvishoma.\\nTakasvika tikambomira pasina kana\\nchauya. Pakazouya bhazi\\nndakatombodonhedza misodzi.\\nKuparadzana kunongorwadza hako.\\nMurume wangu ndayimuda. Tanga\\ntaenda kuchiteshi ini, tete Chido\\nnabamunini Simba. Wayne akakwira\\nkubva isu tapinda hedu munzira\\nkudzokera kumba.'"
            ],
            "application/vnd.google.colaboratory.intrinsic+json": {
              "type": "string"
            }
          },
          "metadata": {},
          "execution_count": 5
        }
      ],
      "source": [
        "data_set"
      ],
      "id": "8N4iNGbUEXc5"
    },
    {
      "cell_type": "markdown",
      "metadata": {
        "id": "89b47d82"
      },
      "source": [
        "### Defining Vocabulary"
      ],
      "id": "89b47d82"
    },
    {
      "cell_type": "code",
      "execution_count": null,
      "metadata": {
        "id": "dfdffef8"
      },
      "outputs": [],
      "source": [
        "from keras.preprocessing.text import Tokenizer\n",
        "tokenizer = Tokenizer()\n",
        "tokenizer.fit_on_texts([data_set])\n",
        "total_words = len(tokenizer.word_index) + 1\n",
        "\n",
        "\n"
      ],
      "id": "dfdffef8"
    },
    {
      "cell_type": "markdown",
      "metadata": {
        "id": "ab90873f"
      },
      "source": [
        "### Word Embeddings"
      ],
      "id": "ab90873f"
    },
    {
      "cell_type": "code",
      "execution_count": null,
      "metadata": {
        "id": "f6e79b35"
      },
      "outputs": [],
      "source": [
        "from gensim.models import Word2Vec\n",
        "sentences = [sentence.split() for sentence in data_set.split('.')]\n",
        "model_gensim = Word2Vec(sentences, vector_size=100, window=5, min_count=1, workers=4)\n",
        "model_gensim.save(\"word2vec.model\")\n"
      ],
      "id": "f6e79b35"
    },
    {
      "cell_type": "code",
      "execution_count": null,
      "metadata": {
        "id": "8095c8fb"
      },
      "outputs": [],
      "source": [
        "from keras.models import Sequential\n",
        "from keras.layers import Embedding, LSTM, Dense, Dropout, Bidirectional\n",
        "\n",
        "model1 = Sequential()\n",
        "model1.add(Embedding(total_words, 100, input_length=5))\n",
        "model1.add(Bidirectional(LSTM(150, return_sequences=True)))\n",
        "model1.add(Dropout(0.3))\n",
        "model1.add(LSTM(100))\n",
        "model1.add(Dense(total_words, activation='softmax'))\n",
        "\n",
        "model1.compile(optimizer='adam', loss='categorical_crossentropy', metrics=['accuracy'])\n"
      ],
      "id": "8095c8fb"
    },
    {
      "cell_type": "markdown",
      "metadata": {
        "id": "44ae418c"
      },
      "source": [
        "##### :"
      ],
      "id": "44ae418c"
    },
    {
      "cell_type": "code",
      "execution_count": null,
      "metadata": {
        "id": "90591dd3"
      },
      "outputs": [],
      "source": [
        "\n",
        "import numpy as np\n",
        "model_gensim = Word2Vec.load(\"word2vec.model\")\n",
        "embedding_matrix = np.zeros((total_words, 100))\n",
        "for word, i in tokenizer.word_index.items():\n",
        "    try:\n",
        "        embedding_vector = model_gensim.wv[word]\n",
        "        if embedding_vector is not None:\n",
        "            embedding_matrix[i] = embedding_vector\n",
        "    except KeyError:\n",
        "\n",
        "        pass\n",
        "\n",
        "\n",
        "model2 = Sequential()\n",
        "model2.add(Embedding(total_words, 100, weights=[embedding_matrix], input_length=5, trainable=False))\n",
        "model2.add(Bidirectional(LSTM(150, return_sequences=True)))\n",
        "model2.add(Dropout(0.2))\n",
        "model2.add(LSTM(100))\n",
        "model2.add(Dense(total_words, activation='softmax'))\n",
        "\n",
        "model2.compile(optimizer='adam', loss='categorical_crossentropy', metrics=['accuracy'])\n"
      ],
      "id": "90591dd3"
    },
    {
      "cell_type": "markdown",
      "metadata": {
        "id": "12ca3b79"
      },
      "source": [
        "###  Train  Test"
      ],
      "id": "12ca3b79"
    },
    {
      "cell_type": "code",
      "execution_count": null,
      "metadata": {
        "colab": {
          "base_uri": "https://localhost:8080/"
        },
        "id": "eb129419",
        "outputId": "f20de4e9-874f-4bee-bb58-5b3f8f740328"
      },
      "outputs": [
        {
          "output_type": "stream",
          "name": "stdout",
          "text": [
            "Epoch 1/100\n",
            "30/30 [==============================] - 13s 183ms/step - loss: 7.0701 - accuracy: 0.0063 - val_loss: 7.0724 - val_accuracy: 0.0032\n",
            "Epoch 2/100\n",
            "30/30 [==============================] - 4s 117ms/step - loss: 6.8736 - accuracy: 0.0126 - val_loss: 7.6219 - val_accuracy: 0.0237\n",
            "Epoch 3/100\n",
            "30/30 [==============================] - 2s 57ms/step - loss: 6.5467 - accuracy: 0.0148 - val_loss: 8.0459 - val_accuracy: 0.0205\n",
            "Epoch 4/100\n",
            "30/30 [==============================] - 2s 55ms/step - loss: 6.4116 - accuracy: 0.0148 - val_loss: 8.3642 - val_accuracy: 0.0158\n",
            "Epoch 5/100\n",
            "30/30 [==============================] - 2s 59ms/step - loss: 6.2748 - accuracy: 0.0169 - val_loss: 8.6668 - val_accuracy: 0.0110\n",
            "Epoch 6/100\n",
            "30/30 [==============================] - 2s 56ms/step - loss: 6.0714 - accuracy: 0.0158 - val_loss: 8.9909 - val_accuracy: 0.0142\n",
            "Epoch 7/100\n",
            "30/30 [==============================] - 2s 57ms/step - loss: 5.8830 - accuracy: 0.0200 - val_loss: 9.6209 - val_accuracy: 0.0142\n",
            "Epoch 8/100\n",
            "30/30 [==============================] - 2s 69ms/step - loss: 5.7024 - accuracy: 0.0221 - val_loss: 9.5827 - val_accuracy: 0.0095\n",
            "Epoch 9/100\n",
            "30/30 [==============================] - 3s 109ms/step - loss: 5.5325 - accuracy: 0.0242 - val_loss: 9.8509 - val_accuracy: 0.0095\n",
            "Epoch 10/100\n",
            "30/30 [==============================] - 4s 119ms/step - loss: 5.3915 - accuracy: 0.0337 - val_loss: 9.9826 - val_accuracy: 0.0047\n",
            "Epoch 11/100\n",
            "30/30 [==============================] - 3s 83ms/step - loss: 5.2555 - accuracy: 0.0306 - val_loss: 10.5000 - val_accuracy: 0.0032\n",
            "Epoch 12/100\n",
            "30/30 [==============================] - 2s 58ms/step - loss: 5.1312 - accuracy: 0.0379 - val_loss: 10.3082 - val_accuracy: 0.0032\n",
            "Epoch 13/100\n",
            "30/30 [==============================] - 2s 71ms/step - loss: 5.0274 - accuracy: 0.0453 - val_loss: 10.5453 - val_accuracy: 0.0016\n",
            "Epoch 14/100\n",
            "30/30 [==============================] - 2s 78ms/step - loss: 4.9225 - accuracy: 0.0443 - val_loss: 10.5194 - val_accuracy: 0.0032\n",
            "Epoch 15/100\n",
            "30/30 [==============================] - 3s 106ms/step - loss: 4.8129 - accuracy: 0.0558 - val_loss: 10.7261 - val_accuracy: 0.0047\n",
            "Epoch 16/100\n",
            "30/30 [==============================] - 5s 172ms/step - loss: 4.7266 - accuracy: 0.0495 - val_loss: 10.7102 - val_accuracy: 0.0032\n",
            "Epoch 17/100\n",
            "30/30 [==============================] - 4s 119ms/step - loss: 4.6337 - accuracy: 0.0558 - val_loss: 10.7057 - val_accuracy: 0.0063\n",
            "Epoch 18/100\n",
            "30/30 [==============================] - 3s 93ms/step - loss: 4.5423 - accuracy: 0.0601 - val_loss: 10.9620 - val_accuracy: 0.0063\n",
            "Epoch 19/100\n",
            "30/30 [==============================] - 2s 59ms/step - loss: 4.4570 - accuracy: 0.0717 - val_loss: 10.9128 - val_accuracy: 0.0063\n",
            "Epoch 20/100\n",
            "30/30 [==============================] - 2s 55ms/step - loss: 4.3918 - accuracy: 0.0643 - val_loss: 10.7883 - val_accuracy: 0.0047\n",
            "Epoch 21/100\n",
            "30/30 [==============================] - 2s 57ms/step - loss: 4.3221 - accuracy: 0.0653 - val_loss: 11.1110 - val_accuracy: 0.0063\n",
            "Epoch 22/100\n",
            "30/30 [==============================] - 2s 58ms/step - loss: 4.2435 - accuracy: 0.0822 - val_loss: 11.1224 - val_accuracy: 0.0063\n",
            "Epoch 23/100\n",
            "30/30 [==============================] - 2s 58ms/step - loss: 4.1561 - accuracy: 0.0885 - val_loss: 11.2672 - val_accuracy: 0.0063\n",
            "Epoch 24/100\n",
            "30/30 [==============================] - 3s 91ms/step - loss: 4.0807 - accuracy: 0.0991 - val_loss: 11.3017 - val_accuracy: 0.0047\n",
            "Epoch 25/100\n",
            "30/30 [==============================] - 4s 118ms/step - loss: 4.0248 - accuracy: 0.1054 - val_loss: 11.3345 - val_accuracy: 0.0063\n",
            "Epoch 26/100\n",
            "30/30 [==============================] - 3s 115ms/step - loss: 3.9495 - accuracy: 0.1170 - val_loss: 11.3237 - val_accuracy: 0.0079\n",
            "Epoch 27/100\n",
            "30/30 [==============================] - 2s 58ms/step - loss: 3.8973 - accuracy: 0.1106 - val_loss: 11.4125 - val_accuracy: 0.0047\n",
            "Epoch 28/100\n",
            "30/30 [==============================] - 2s 55ms/step - loss: 3.8445 - accuracy: 0.1170 - val_loss: 11.4101 - val_accuracy: 0.0079\n",
            "Epoch 29/100\n",
            "30/30 [==============================] - 2s 56ms/step - loss: 3.7717 - accuracy: 0.1454 - val_loss: 11.5292 - val_accuracy: 0.0063\n",
            "Epoch 30/100\n",
            "30/30 [==============================] - 2s 58ms/step - loss: 3.7189 - accuracy: 0.1359 - val_loss: 11.4888 - val_accuracy: 0.0079\n",
            "Epoch 31/100\n",
            "30/30 [==============================] - 2s 57ms/step - loss: 3.6704 - accuracy: 0.1444 - val_loss: 11.5936 - val_accuracy: 0.0095\n",
            "Epoch 32/100\n",
            "30/30 [==============================] - 2s 59ms/step - loss: 3.6268 - accuracy: 0.1602 - val_loss: 11.7186 - val_accuracy: 0.0063\n",
            "Epoch 33/100\n",
            "30/30 [==============================] - 3s 112ms/step - loss: 3.5599 - accuracy: 0.1644 - val_loss: 11.5340 - val_accuracy: 0.0063\n",
            "Epoch 34/100\n",
            "30/30 [==============================] - 3s 115ms/step - loss: 3.5301 - accuracy: 0.1644 - val_loss: 11.6953 - val_accuracy: 0.0110\n",
            "Epoch 35/100\n",
            "30/30 [==============================] - 3s 96ms/step - loss: 3.4765 - accuracy: 0.1781 - val_loss: 11.6574 - val_accuracy: 0.0063\n",
            "Epoch 36/100\n",
            "30/30 [==============================] - 2s 55ms/step - loss: 3.3977 - accuracy: 0.1844 - val_loss: 11.7578 - val_accuracy: 0.0047\n",
            "Epoch 37/100\n",
            "30/30 [==============================] - 2s 58ms/step - loss: 3.3233 - accuracy: 0.2065 - val_loss: 11.7935 - val_accuracy: 0.0047\n",
            "Epoch 38/100\n",
            "30/30 [==============================] - 2s 57ms/step - loss: 3.2900 - accuracy: 0.2150 - val_loss: 11.8884 - val_accuracy: 0.0110\n",
            "Epoch 39/100\n",
            "30/30 [==============================] - 2s 57ms/step - loss: 3.2349 - accuracy: 0.2181 - val_loss: 11.8197 - val_accuracy: 0.0047\n",
            "Epoch 40/100\n",
            "30/30 [==============================] - 2s 56ms/step - loss: 3.1985 - accuracy: 0.2118 - val_loss: 11.8741 - val_accuracy: 0.0063\n",
            "Epoch 41/100\n",
            "30/30 [==============================] - 3s 87ms/step - loss: 3.1610 - accuracy: 0.2318 - val_loss: 11.9478 - val_accuracy: 0.0063\n",
            "Epoch 42/100\n",
            "30/30 [==============================] - 3s 116ms/step - loss: 3.1208 - accuracy: 0.2487 - val_loss: 12.0675 - val_accuracy: 0.0063\n",
            "Epoch 43/100\n",
            "30/30 [==============================] - 4s 121ms/step - loss: 3.0666 - accuracy: 0.2508 - val_loss: 12.0452 - val_accuracy: 0.0047\n",
            "Epoch 44/100\n",
            "30/30 [==============================] - 2s 57ms/step - loss: 3.0112 - accuracy: 0.2708 - val_loss: 12.1252 - val_accuracy: 0.0063\n",
            "Epoch 45/100\n",
            "30/30 [==============================] - 2s 57ms/step - loss: 2.9662 - accuracy: 0.2993 - val_loss: 12.2541 - val_accuracy: 0.0079\n",
            "Epoch 46/100\n",
            "30/30 [==============================] - 2s 58ms/step - loss: 2.9125 - accuracy: 0.2919 - val_loss: 12.1747 - val_accuracy: 0.0063\n",
            "Epoch 47/100\n",
            "30/30 [==============================] - 2s 57ms/step - loss: 2.8794 - accuracy: 0.3066 - val_loss: 12.1801 - val_accuracy: 0.0079\n",
            "Epoch 48/100\n",
            "30/30 [==============================] - 2s 54ms/step - loss: 2.8581 - accuracy: 0.2940 - val_loss: 12.3045 - val_accuracy: 0.0032\n",
            "Epoch 49/100\n",
            "30/30 [==============================] - 2s 59ms/step - loss: 2.8027 - accuracy: 0.3182 - val_loss: 12.2460 - val_accuracy: 0.0079\n",
            "Epoch 50/100\n",
            "30/30 [==============================] - 3s 112ms/step - loss: 2.7701 - accuracy: 0.3256 - val_loss: 12.3090 - val_accuracy: 0.0110\n",
            "Epoch 51/100\n",
            "30/30 [==============================] - 3s 112ms/step - loss: 2.7393 - accuracy: 0.3267 - val_loss: 12.3417 - val_accuracy: 0.0063\n",
            "Epoch 52/100\n",
            "30/30 [==============================] - 3s 100ms/step - loss: 2.7053 - accuracy: 0.3319 - val_loss: 12.2880 - val_accuracy: 0.0095\n",
            "Epoch 53/100\n",
            "30/30 [==============================] - 2s 58ms/step - loss: 2.6786 - accuracy: 0.3456 - val_loss: 12.4313 - val_accuracy: 0.0063\n",
            "Epoch 54/100\n",
            "30/30 [==============================] - 2s 58ms/step - loss: 2.6382 - accuracy: 0.3498 - val_loss: 12.4861 - val_accuracy: 0.0063\n",
            "Epoch 55/100\n",
            "30/30 [==============================] - 2s 57ms/step - loss: 2.5769 - accuracy: 0.3720 - val_loss: 12.5049 - val_accuracy: 0.0095\n",
            "Epoch 56/100\n",
            "30/30 [==============================] - 2s 57ms/step - loss: 2.5333 - accuracy: 0.3878 - val_loss: 12.5179 - val_accuracy: 0.0110\n",
            "Epoch 57/100\n",
            "30/30 [==============================] - 2s 56ms/step - loss: 2.5004 - accuracy: 0.3941 - val_loss: 12.5642 - val_accuracy: 0.0095\n",
            "Epoch 58/100\n",
            "30/30 [==============================] - 2s 79ms/step - loss: 2.4605 - accuracy: 0.4089 - val_loss: 12.5460 - val_accuracy: 0.0079\n",
            "Epoch 59/100\n",
            "30/30 [==============================] - 3s 115ms/step - loss: 2.4331 - accuracy: 0.4152 - val_loss: 12.5993 - val_accuracy: 0.0110\n",
            "Epoch 60/100\n",
            "30/30 [==============================] - 3s 117ms/step - loss: 2.3984 - accuracy: 0.4247 - val_loss: 12.6786 - val_accuracy: 0.0110\n",
            "Epoch 61/100\n",
            "30/30 [==============================] - 2s 69ms/step - loss: 2.3418 - accuracy: 0.4468 - val_loss: 12.7433 - val_accuracy: 0.0063\n",
            "Epoch 62/100\n",
            "30/30 [==============================] - 2s 60ms/step - loss: 2.3164 - accuracy: 0.4615 - val_loss: 12.5933 - val_accuracy: 0.0095\n",
            "Epoch 63/100\n",
            "30/30 [==============================] - 2s 59ms/step - loss: 2.2838 - accuracy: 0.4521 - val_loss: 12.7479 - val_accuracy: 0.0142\n",
            "Epoch 64/100\n",
            "30/30 [==============================] - 2s 59ms/step - loss: 2.2591 - accuracy: 0.4552 - val_loss: 12.7153 - val_accuracy: 0.0079\n",
            "Epoch 65/100\n",
            "30/30 [==============================] - 2s 59ms/step - loss: 2.2644 - accuracy: 0.4563 - val_loss: 12.7188 - val_accuracy: 0.0079\n",
            "Epoch 66/100\n",
            "30/30 [==============================] - 2s 72ms/step - loss: 2.2119 - accuracy: 0.4826 - val_loss: 12.7619 - val_accuracy: 0.0063\n",
            "Epoch 67/100\n",
            "30/30 [==============================] - 4s 119ms/step - loss: 2.1496 - accuracy: 0.4953 - val_loss: 12.8227 - val_accuracy: 0.0079\n",
            "Epoch 68/100\n",
            "30/30 [==============================] - 4s 123ms/step - loss: 2.1169 - accuracy: 0.5437 - val_loss: 12.8725 - val_accuracy: 0.0095\n",
            "Epoch 69/100\n",
            "30/30 [==============================] - 2s 75ms/step - loss: 2.0774 - accuracy: 0.5279 - val_loss: 12.9052 - val_accuracy: 0.0126\n",
            "Epoch 70/100\n",
            "30/30 [==============================] - 2s 56ms/step - loss: 2.0533 - accuracy: 0.5469 - val_loss: 12.8727 - val_accuracy: 0.0095\n",
            "Epoch 71/100\n",
            "30/30 [==============================] - 2s 58ms/step - loss: 2.0324 - accuracy: 0.5437 - val_loss: 12.8990 - val_accuracy: 0.0079\n",
            "Epoch 72/100\n",
            "30/30 [==============================] - 2s 57ms/step - loss: 2.0199 - accuracy: 0.5469 - val_loss: 12.9592 - val_accuracy: 0.0126\n",
            "Epoch 73/100\n",
            "30/30 [==============================] - 2s 58ms/step - loss: 1.9821 - accuracy: 0.5290 - val_loss: 12.9992 - val_accuracy: 0.0110\n",
            "Epoch 74/100\n",
            "30/30 [==============================] - 2s 54ms/step - loss: 1.9429 - accuracy: 0.5659 - val_loss: 12.9981 - val_accuracy: 0.0063\n",
            "Epoch 75/100\n",
            "30/30 [==============================] - 3s 103ms/step - loss: 1.8988 - accuracy: 0.5774 - val_loss: 13.0475 - val_accuracy: 0.0095\n",
            "Epoch 76/100\n",
            "30/30 [==============================] - 4s 121ms/step - loss: 1.8503 - accuracy: 0.6017 - val_loss: 13.0548 - val_accuracy: 0.0079\n",
            "Epoch 77/100\n",
            "30/30 [==============================] - 3s 105ms/step - loss: 1.8415 - accuracy: 0.5817 - val_loss: 13.0748 - val_accuracy: 0.0079\n",
            "Epoch 78/100\n",
            "30/30 [==============================] - 2s 57ms/step - loss: 1.8073 - accuracy: 0.6164 - val_loss: 13.1267 - val_accuracy: 0.0110\n",
            "Epoch 79/100\n",
            "30/30 [==============================] - 2s 57ms/step - loss: 1.7878 - accuracy: 0.6249 - val_loss: 13.1545 - val_accuracy: 0.0079\n",
            "Epoch 80/100\n",
            "30/30 [==============================] - 2s 58ms/step - loss: 1.7738 - accuracy: 0.6238 - val_loss: 13.1056 - val_accuracy: 0.0079\n",
            "Epoch 81/100\n",
            "30/30 [==============================] - 2s 58ms/step - loss: 1.7621 - accuracy: 0.6207 - val_loss: 13.2659 - val_accuracy: 0.0110\n",
            "Epoch 82/100\n",
            "30/30 [==============================] - 2s 59ms/step - loss: 1.7386 - accuracy: 0.6270 - val_loss: 13.2332 - val_accuracy: 0.0126\n",
            "Epoch 83/100\n",
            "30/30 [==============================] - 2s 82ms/step - loss: 1.6956 - accuracy: 0.6312 - val_loss: 13.3002 - val_accuracy: 0.0095\n",
            "Epoch 84/100\n",
            "30/30 [==============================] - 3s 111ms/step - loss: 1.6860 - accuracy: 0.6459 - val_loss: 13.3339 - val_accuracy: 0.0063\n",
            "Epoch 85/100\n",
            "30/30 [==============================] - 3s 118ms/step - loss: 1.6683 - accuracy: 0.6396 - val_loss: 13.4078 - val_accuracy: 0.0110\n",
            "Epoch 86/100\n",
            "30/30 [==============================] - 2s 74ms/step - loss: 1.6352 - accuracy: 0.6375 - val_loss: 13.3766 - val_accuracy: 0.0110\n",
            "Epoch 87/100\n",
            "30/30 [==============================] - 2s 56ms/step - loss: 1.6096 - accuracy: 0.6660 - val_loss: 13.3475 - val_accuracy: 0.0079\n",
            "Epoch 88/100\n",
            "30/30 [==============================] - 2s 57ms/step - loss: 1.5886 - accuracy: 0.6660 - val_loss: 13.4764 - val_accuracy: 0.0095\n",
            "Epoch 89/100\n",
            "30/30 [==============================] - 2s 58ms/step - loss: 1.5644 - accuracy: 0.6723 - val_loss: 13.3953 - val_accuracy: 0.0079\n",
            "Epoch 90/100\n",
            "30/30 [==============================] - 2s 58ms/step - loss: 1.5271 - accuracy: 0.6965 - val_loss: 13.4095 - val_accuracy: 0.0079\n",
            "Epoch 91/100\n",
            "30/30 [==============================] - 2s 58ms/step - loss: 1.4961 - accuracy: 0.7050 - val_loss: 13.4279 - val_accuracy: 0.0079\n",
            "Epoch 92/100\n",
            "30/30 [==============================] - 3s 110ms/step - loss: 1.4981 - accuracy: 0.6944 - val_loss: 13.4726 - val_accuracy: 0.0095\n",
            "Epoch 93/100\n",
            "30/30 [==============================] - 4s 118ms/step - loss: 1.4750 - accuracy: 0.7050 - val_loss: 13.5306 - val_accuracy: 0.0079\n",
            "Epoch 94/100\n",
            "30/30 [==============================] - 3s 102ms/step - loss: 1.4162 - accuracy: 0.7144 - val_loss: 13.5732 - val_accuracy: 0.0079\n",
            "Epoch 95/100\n",
            "30/30 [==============================] - 2s 56ms/step - loss: 1.3953 - accuracy: 0.7218 - val_loss: 13.6347 - val_accuracy: 0.0079\n",
            "Epoch 96/100\n",
            "30/30 [==============================] - 2s 56ms/step - loss: 1.3863 - accuracy: 0.7260 - val_loss: 13.6071 - val_accuracy: 0.0032\n",
            "Epoch 97/100\n",
            "30/30 [==============================] - 2s 59ms/step - loss: 1.3582 - accuracy: 0.7460 - val_loss: 13.6446 - val_accuracy: 0.0095\n",
            "Epoch 98/100\n",
            "30/30 [==============================] - 2s 57ms/step - loss: 1.3456 - accuracy: 0.7376 - val_loss: 13.5890 - val_accuracy: 0.0063\n",
            "Epoch 99/100\n",
            "30/30 [==============================] - 2s 58ms/step - loss: 1.3191 - accuracy: 0.7281 - val_loss: 13.5943 - val_accuracy: 0.0079\n",
            "Epoch 100/100\n",
            "30/30 [==============================] - 3s 85ms/step - loss: 1.3208 - accuracy: 0.7271 - val_loss: 13.6738 - val_accuracy: 0.0063\n",
            "Epoch 1/100\n",
            "30/30 [==============================] - 13s 104ms/step - loss: 7.0707 - accuracy: 0.0011 - val_loss: 7.0726 - val_accuracy: 0.0237\n",
            "Epoch 2/100\n",
            "30/30 [==============================] - 2s 55ms/step - loss: 6.9380 - accuracy: 0.0095 - val_loss: 7.8052 - val_accuracy: 0.0237\n",
            "Epoch 3/100\n",
            "30/30 [==============================] - 2s 57ms/step - loss: 6.5820 - accuracy: 0.0148 - val_loss: 7.9490 - val_accuracy: 0.0237\n",
            "Epoch 4/100\n",
            "30/30 [==============================] - 2s 57ms/step - loss: 6.4876 - accuracy: 0.0148 - val_loss: 8.4611 - val_accuracy: 0.0237\n",
            "Epoch 5/100\n",
            "30/30 [==============================] - 2s 80ms/step - loss: 6.4581 - accuracy: 0.0148 - val_loss: 8.6374 - val_accuracy: 0.0237\n",
            "Epoch 6/100\n",
            "30/30 [==============================] - 4s 133ms/step - loss: 6.4427 - accuracy: 0.0148 - val_loss: 8.7550 - val_accuracy: 0.0237\n",
            "Epoch 7/100\n",
            "30/30 [==============================] - 4s 135ms/step - loss: 6.4337 - accuracy: 0.0148 - val_loss: 8.8052 - val_accuracy: 0.0237\n",
            "Epoch 8/100\n",
            "30/30 [==============================] - 4s 119ms/step - loss: 6.4253 - accuracy: 0.0148 - val_loss: 9.0831 - val_accuracy: 0.0237\n",
            "Epoch 9/100\n",
            "30/30 [==============================] - 2s 71ms/step - loss: 6.4219 - accuracy: 0.0148 - val_loss: 9.0584 - val_accuracy: 0.0237\n",
            "Epoch 10/100\n",
            "30/30 [==============================] - 2s 81ms/step - loss: 6.4177 - accuracy: 0.0148 - val_loss: 9.1054 - val_accuracy: 0.0237\n",
            "Epoch 11/100\n",
            "30/30 [==============================] - 2s 81ms/step - loss: 6.4146 - accuracy: 0.0148 - val_loss: 9.1743 - val_accuracy: 0.0237\n",
            "Epoch 12/100\n",
            "30/30 [==============================] - 2s 75ms/step - loss: 6.4090 - accuracy: 0.0148 - val_loss: 8.7940 - val_accuracy: 0.0237\n",
            "Epoch 13/100\n",
            "30/30 [==============================] - 3s 111ms/step - loss: 6.4015 - accuracy: 0.0148 - val_loss: 9.0154 - val_accuracy: 0.0237\n",
            "Epoch 14/100\n",
            "30/30 [==============================] - 3s 115ms/step - loss: 6.3877 - accuracy: 0.0148 - val_loss: 9.3368 - val_accuracy: 0.0237\n",
            "Epoch 15/100\n",
            "30/30 [==============================] - 3s 87ms/step - loss: 6.3731 - accuracy: 0.0148 - val_loss: 8.9654 - val_accuracy: 0.0237\n",
            "Epoch 16/100\n",
            "30/30 [==============================] - 2s 54ms/step - loss: 6.3628 - accuracy: 0.0148 - val_loss: 9.2508 - val_accuracy: 0.0237\n",
            "Epoch 17/100\n",
            "30/30 [==============================] - 2s 56ms/step - loss: 6.3556 - accuracy: 0.0148 - val_loss: 9.3900 - val_accuracy: 0.0237\n",
            "Epoch 18/100\n",
            "30/30 [==============================] - 2s 52ms/step - loss: 6.3379 - accuracy: 0.0148 - val_loss: 10.1425 - val_accuracy: 0.0237\n",
            "Epoch 19/100\n",
            "30/30 [==============================] - 2s 53ms/step - loss: 6.3061 - accuracy: 0.0148 - val_loss: 10.0383 - val_accuracy: 0.0237\n",
            "Epoch 20/100\n",
            "30/30 [==============================] - 2s 52ms/step - loss: 6.2520 - accuracy: 0.0158 - val_loss: 10.2067 - val_accuracy: 0.0237\n",
            "Epoch 21/100\n",
            "30/30 [==============================] - 2s 66ms/step - loss: 6.1544 - accuracy: 0.0169 - val_loss: 10.1839 - val_accuracy: 0.0189\n",
            "Epoch 22/100\n",
            "30/30 [==============================] - 3s 110ms/step - loss: 6.0747 - accuracy: 0.0105 - val_loss: 10.5381 - val_accuracy: 0.0110\n",
            "Epoch 23/100\n",
            "30/30 [==============================] - 3s 113ms/step - loss: 5.9934 - accuracy: 0.0179 - val_loss: 10.6421 - val_accuracy: 0.0095\n",
            "Epoch 24/100\n",
            "30/30 [==============================] - 3s 88ms/step - loss: 5.8951 - accuracy: 0.0190 - val_loss: 10.6053 - val_accuracy: 0.0032\n",
            "Epoch 25/100\n",
            "30/30 [==============================] - 2s 55ms/step - loss: 5.8135 - accuracy: 0.0126 - val_loss: 10.9687 - val_accuracy: 0.0063\n",
            "Epoch 26/100\n",
            "30/30 [==============================] - 2s 55ms/step - loss: 5.7551 - accuracy: 0.0190 - val_loss: 11.1470 - val_accuracy: 0.0079\n",
            "Epoch 27/100\n",
            "30/30 [==============================] - 2s 53ms/step - loss: 5.6697 - accuracy: 0.0158 - val_loss: 10.7686 - val_accuracy: 0.0063\n",
            "Epoch 28/100\n",
            "30/30 [==============================] - 2s 54ms/step - loss: 5.6106 - accuracy: 0.0190 - val_loss: 11.0581 - val_accuracy: 0.0095\n",
            "Epoch 29/100\n",
            "30/30 [==============================] - 2s 56ms/step - loss: 5.5728 - accuracy: 0.0221 - val_loss: 11.1161 - val_accuracy: 0.0047\n",
            "Epoch 30/100\n",
            "30/30 [==============================] - 2s 71ms/step - loss: 5.4876 - accuracy: 0.0179 - val_loss: 10.5994 - val_accuracy: 0.0063\n",
            "Epoch 31/100\n",
            "30/30 [==============================] - 3s 105ms/step - loss: 5.4311 - accuracy: 0.0211 - val_loss: 12.0087 - val_accuracy: 0.0047\n",
            "Epoch 32/100\n",
            "30/30 [==============================] - 3s 112ms/step - loss: 5.3557 - accuracy: 0.0169 - val_loss: 11.9763 - val_accuracy: 0.0079\n",
            "Epoch 33/100\n",
            "30/30 [==============================] - 2s 82ms/step - loss: 5.2860 - accuracy: 0.0200 - val_loss: 12.1528 - val_accuracy: 0.0095\n",
            "Epoch 34/100\n",
            "30/30 [==============================] - 2s 53ms/step - loss: 5.2069 - accuracy: 0.0274 - val_loss: 11.5432 - val_accuracy: 0.0079\n",
            "Epoch 35/100\n",
            "30/30 [==============================] - 2s 54ms/step - loss: 5.1527 - accuracy: 0.0232 - val_loss: 12.2752 - val_accuracy: 0.0079\n",
            "Epoch 36/100\n",
            "30/30 [==============================] - 2s 54ms/step - loss: 5.0727 - accuracy: 0.0263 - val_loss: 11.8584 - val_accuracy: 0.0047\n",
            "Epoch 37/100\n",
            "30/30 [==============================] - 2s 55ms/step - loss: 5.0003 - accuracy: 0.0337 - val_loss: 12.3786 - val_accuracy: 0.0063\n",
            "Epoch 38/100\n",
            "30/30 [==============================] - 2s 58ms/step - loss: 4.9744 - accuracy: 0.0253 - val_loss: 12.1214 - val_accuracy: 0.0079\n",
            "Epoch 39/100\n",
            "30/30 [==============================] - 2s 81ms/step - loss: 4.8516 - accuracy: 0.0285 - val_loss: 12.5993 - val_accuracy: 0.0110\n",
            "Epoch 40/100\n",
            "30/30 [==============================] - 3s 117ms/step - loss: 4.7662 - accuracy: 0.0337 - val_loss: 12.6129 - val_accuracy: 0.0079\n",
            "Epoch 41/100\n",
            "30/30 [==============================] - 3s 112ms/step - loss: 4.6973 - accuracy: 0.0379 - val_loss: 12.6897 - val_accuracy: 0.0110\n",
            "Epoch 42/100\n",
            "30/30 [==============================] - 2s 73ms/step - loss: 4.6553 - accuracy: 0.0337 - val_loss: 12.8905 - val_accuracy: 0.0110\n",
            "Epoch 43/100\n",
            "30/30 [==============================] - 2s 53ms/step - loss: 4.5988 - accuracy: 0.0464 - val_loss: 12.8459 - val_accuracy: 0.0063\n",
            "Epoch 44/100\n",
            "30/30 [==============================] - 2s 54ms/step - loss: 4.5677 - accuracy: 0.0464 - val_loss: 12.7108 - val_accuracy: 0.0063\n",
            "Epoch 45/100\n",
            "30/30 [==============================] - 2s 55ms/step - loss: 4.4948 - accuracy: 0.0443 - val_loss: 12.8817 - val_accuracy: 0.0079\n",
            "Epoch 46/100\n",
            "30/30 [==============================] - 2s 54ms/step - loss: 4.4758 - accuracy: 0.0432 - val_loss: 12.8455 - val_accuracy: 0.0079\n",
            "Epoch 47/100\n",
            "30/30 [==============================] - 2s 54ms/step - loss: 4.4149 - accuracy: 0.0358 - val_loss: 13.0905 - val_accuracy: 0.0079\n",
            "Epoch 48/100\n",
            "30/30 [==============================] - 2s 79ms/step - loss: 4.3559 - accuracy: 0.0464 - val_loss: 13.0352 - val_accuracy: 0.0063\n",
            "Epoch 49/100\n",
            "30/30 [==============================] - 3s 110ms/step - loss: 4.3409 - accuracy: 0.0548 - val_loss: 13.2654 - val_accuracy: 0.0079\n",
            "Epoch 50/100\n",
            "30/30 [==============================] - 3s 109ms/step - loss: 4.3199 - accuracy: 0.0495 - val_loss: 13.0806 - val_accuracy: 0.0063\n",
            "Epoch 51/100\n",
            "30/30 [==============================] - 2s 81ms/step - loss: 4.3394 - accuracy: 0.0548 - val_loss: 13.1975 - val_accuracy: 0.0063\n",
            "Epoch 52/100\n",
            "30/30 [==============================] - 2s 57ms/step - loss: 4.2138 - accuracy: 0.0611 - val_loss: 13.2842 - val_accuracy: 0.0063\n",
            "Epoch 53/100\n",
            "30/30 [==============================] - 2s 58ms/step - loss: 4.1730 - accuracy: 0.0601 - val_loss: 13.2653 - val_accuracy: 0.0079\n",
            "Epoch 54/100\n",
            "30/30 [==============================] - 2s 55ms/step - loss: 4.1337 - accuracy: 0.0727 - val_loss: 13.2706 - val_accuracy: 0.0047\n",
            "Epoch 55/100\n",
            "30/30 [==============================] - 2s 56ms/step - loss: 4.1077 - accuracy: 0.0674 - val_loss: 13.2898 - val_accuracy: 0.0063\n",
            "Epoch 56/100\n",
            "30/30 [==============================] - 2s 54ms/step - loss: 4.0712 - accuracy: 0.0790 - val_loss: 13.3136 - val_accuracy: 0.0079\n",
            "Epoch 57/100\n",
            "30/30 [==============================] - 3s 94ms/step - loss: 4.0666 - accuracy: 0.0801 - val_loss: 13.3490 - val_accuracy: 0.0063\n",
            "Epoch 58/100\n",
            "30/30 [==============================] - 3s 114ms/step - loss: 4.0765 - accuracy: 0.0906 - val_loss: 13.2284 - val_accuracy: 0.0047\n",
            "Epoch 59/100\n",
            "30/30 [==============================] - 3s 113ms/step - loss: 4.0926 - accuracy: 0.0706 - val_loss: 13.4734 - val_accuracy: 0.0063\n",
            "Epoch 60/100\n",
            "30/30 [==============================] - 2s 64ms/step - loss: 3.9862 - accuracy: 0.0854 - val_loss: 13.4768 - val_accuracy: 0.0095\n",
            "Epoch 61/100\n",
            "30/30 [==============================] - 2s 55ms/step - loss: 3.9206 - accuracy: 0.0938 - val_loss: 13.5139 - val_accuracy: 0.0047\n",
            "Epoch 62/100\n",
            "30/30 [==============================] - 2s 53ms/step - loss: 3.8917 - accuracy: 0.0854 - val_loss: 13.5128 - val_accuracy: 0.0095\n",
            "Epoch 63/100\n",
            "30/30 [==============================] - 2s 57ms/step - loss: 3.8609 - accuracy: 0.1054 - val_loss: 13.4269 - val_accuracy: 0.0095\n",
            "Epoch 64/100\n",
            "30/30 [==============================] - 2s 57ms/step - loss: 3.8851 - accuracy: 0.0927 - val_loss: 13.6735 - val_accuracy: 0.0063\n",
            "Epoch 65/100\n",
            "30/30 [==============================] - 2s 54ms/step - loss: 3.8587 - accuracy: 0.1075 - val_loss: 13.5938 - val_accuracy: 0.0032\n",
            "Epoch 66/100\n",
            "30/30 [==============================] - 3s 107ms/step - loss: 3.7971 - accuracy: 0.0980 - val_loss: 13.6061 - val_accuracy: 0.0063\n",
            "Epoch 67/100\n",
            "30/30 [==============================] - 3s 109ms/step - loss: 3.8203 - accuracy: 0.0959 - val_loss: 13.6464 - val_accuracy: 0.0079\n",
            "Epoch 68/100\n",
            "30/30 [==============================] - 3s 110ms/step - loss: 3.8685 - accuracy: 0.0896 - val_loss: 13.6295 - val_accuracy: 0.0047\n",
            "Epoch 69/100\n",
            "30/30 [==============================] - 2s 54ms/step - loss: 3.8023 - accuracy: 0.0927 - val_loss: 13.7549 - val_accuracy: 0.0063\n",
            "Epoch 70/100\n",
            "30/30 [==============================] - 2s 54ms/step - loss: 3.7583 - accuracy: 0.1159 - val_loss: 13.6974 - val_accuracy: 0.0063\n",
            "Epoch 71/100\n",
            "30/30 [==============================] - 2s 54ms/step - loss: 3.7940 - accuracy: 0.0948 - val_loss: 13.7827 - val_accuracy: 0.0047\n",
            "Epoch 72/100\n",
            "30/30 [==============================] - 2s 55ms/step - loss: 3.6993 - accuracy: 0.1085 - val_loss: 13.7321 - val_accuracy: 0.0095\n",
            "Epoch 73/100\n",
            "30/30 [==============================] - 2s 57ms/step - loss: 3.6637 - accuracy: 0.1201 - val_loss: 13.6107 - val_accuracy: 0.0047\n",
            "Epoch 74/100\n",
            "30/30 [==============================] - 2s 54ms/step - loss: 3.7584 - accuracy: 0.1012 - val_loss: 13.5713 - val_accuracy: 0.0063\n",
            "Epoch 75/100\n",
            "30/30 [==============================] - 3s 102ms/step - loss: 3.6575 - accuracy: 0.1307 - val_loss: 13.7999 - val_accuracy: 0.0063\n",
            "Epoch 76/100\n",
            "30/30 [==============================] - 3s 111ms/step - loss: 3.6211 - accuracy: 0.1233 - val_loss: 13.8117 - val_accuracy: 0.0079\n",
            "Epoch 77/100\n",
            "30/30 [==============================] - 3s 88ms/step - loss: 3.5865 - accuracy: 0.1264 - val_loss: 13.8149 - val_accuracy: 0.0079\n",
            "Epoch 78/100\n",
            "30/30 [==============================] - 2s 57ms/step - loss: 3.5681 - accuracy: 0.1370 - val_loss: 13.8074 - val_accuracy: 0.0063\n",
            "Epoch 79/100\n",
            "30/30 [==============================] - 2s 57ms/step - loss: 3.5295 - accuracy: 0.1380 - val_loss: 13.8191 - val_accuracy: 0.0079\n",
            "Epoch 80/100\n",
            "30/30 [==============================] - 2s 56ms/step - loss: 3.5139 - accuracy: 0.1444 - val_loss: 13.8066 - val_accuracy: 0.0063\n",
            "Epoch 81/100\n",
            "30/30 [==============================] - 2s 57ms/step - loss: 3.4933 - accuracy: 0.1486 - val_loss: 13.8419 - val_accuracy: 0.0063\n",
            "Epoch 82/100\n",
            "30/30 [==============================] - 2s 56ms/step - loss: 3.4740 - accuracy: 0.1423 - val_loss: 13.8568 - val_accuracy: 0.0047\n",
            "Epoch 83/100\n",
            "30/30 [==============================] - 2s 84ms/step - loss: 3.5014 - accuracy: 0.1496 - val_loss: 13.8682 - val_accuracy: 0.0110\n",
            "Epoch 84/100\n",
            "30/30 [==============================] - 3s 112ms/step - loss: 3.5510 - accuracy: 0.1307 - val_loss: 13.8832 - val_accuracy: 0.0047\n",
            "Epoch 85/100\n",
            "30/30 [==============================] - 3s 113ms/step - loss: 3.4521 - accuracy: 0.1465 - val_loss: 13.8914 - val_accuracy: 0.0047\n",
            "Epoch 86/100\n",
            "30/30 [==============================] - 2s 57ms/step - loss: 3.3971 - accuracy: 0.1718 - val_loss: 13.8633 - val_accuracy: 0.0063\n",
            "Epoch 87/100\n",
            "30/30 [==============================] - 2s 55ms/step - loss: 3.3869 - accuracy: 0.1675 - val_loss: 13.9666 - val_accuracy: 0.0047\n",
            "Epoch 88/100\n",
            "30/30 [==============================] - 2s 57ms/step - loss: 3.3750 - accuracy: 0.1749 - val_loss: 13.9446 - val_accuracy: 0.0063\n",
            "Epoch 89/100\n",
            "30/30 [==============================] - 2s 58ms/step - loss: 3.3822 - accuracy: 0.1718 - val_loss: 13.9343 - val_accuracy: 0.0047\n",
            "Epoch 90/100\n",
            "30/30 [==============================] - 2s 54ms/step - loss: 3.3936 - accuracy: 0.1517 - val_loss: 14.0033 - val_accuracy: 0.0047\n",
            "Epoch 91/100\n",
            "30/30 [==============================] - 2s 56ms/step - loss: 3.3631 - accuracy: 0.1791 - val_loss: 13.9676 - val_accuracy: 0.0079\n",
            "Epoch 92/100\n",
            "30/30 [==============================] - 3s 110ms/step - loss: 3.3347 - accuracy: 0.1770 - val_loss: 14.0335 - val_accuracy: 0.0079\n",
            "Epoch 93/100\n",
            "30/30 [==============================] - 3s 116ms/step - loss: 3.4934 - accuracy: 0.1338 - val_loss: 13.8963 - val_accuracy: 0.0063\n",
            "Epoch 94/100\n",
            "30/30 [==============================] - 3s 89ms/step - loss: 3.4642 - accuracy: 0.1412 - val_loss: 13.9361 - val_accuracy: 0.0047\n",
            "Epoch 95/100\n",
            "30/30 [==============================] - 2s 56ms/step - loss: 3.3108 - accuracy: 0.1686 - val_loss: 14.0438 - val_accuracy: 0.0063\n",
            "Epoch 96/100\n",
            "30/30 [==============================] - 2s 54ms/step - loss: 3.3395 - accuracy: 0.1581 - val_loss: 14.0007 - val_accuracy: 0.0047\n",
            "Epoch 97/100\n",
            "30/30 [==============================] - 2s 56ms/step - loss: 3.2550 - accuracy: 0.2013 - val_loss: 13.9797 - val_accuracy: 0.0063\n",
            "Epoch 98/100\n",
            "30/30 [==============================] - 2s 57ms/step - loss: 3.2426 - accuracy: 0.1770 - val_loss: 14.0513 - val_accuracy: 0.0047\n",
            "Epoch 99/100\n",
            "30/30 [==============================] - 2s 55ms/step - loss: 3.2055 - accuracy: 0.1970 - val_loss: 14.0725 - val_accuracy: 0.0047\n",
            "Epoch 100/100\n",
            "30/30 [==============================] - 2s 82ms/step - loss: 3.2411 - accuracy: 0.1728 - val_loss: 14.0564 - val_accuracy: 0.0063\n"
          ]
        }
      ],
      "source": [
        "import keras\n",
        "from tensorflow.keras.preprocessing.sequence import pad_sequences\n",
        "from sklearn.model_selection import train_test_split\n",
        "\n",
        "input_sequences = []\n",
        "for line in data_set.split('.'):\n",
        "    token_list = tokenizer.texts_to_sequences([line])[0]\n",
        "    for i in range(1, len(token_list)):\n",
        "        n_gram_sequence = token_list[:i+1]\n",
        "        input_sequences.append(n_gram_sequence)\n",
        "\n",
        "input_sequences = np.array(pad_sequences(input_sequences, maxlen=6, padding='pre'))\n",
        "X, y = input_sequences[:, :-1], input_sequences[:, -1]\n",
        "y = keras.utils.to_categorical(y, num_classes=total_words)\n",
        "\n",
        "# Split the dataset into training and validation sets\n",
        "X_train, X_val, y_train, y_val = train_test_split(X, y, test_size=0.4, random_state=42)\n",
        "\n",
        "# Training Model 1\n",
        "history1 = model1.fit(X_train, y_train, validation_data=(X_val, y_val), epochs=100, verbose=1)\n",
        "\n",
        "# Training Model 2\n",
        "history2 = model2.fit(X_train, y_train, validation_data=(X_val, y_val), epochs=100, verbose=1)"
      ],
      "id": "eb129419"
    },
    {
      "cell_type": "markdown",
      "metadata": {
        "id": "71f72072"
      },
      "source": [
        "### Model Evaluation"
      ],
      "id": "71f72072"
    },
    {
      "cell_type": "code",
      "execution_count": null,
      "metadata": {
        "colab": {
          "base_uri": "https://localhost:8080/"
        },
        "id": "79cddef6",
        "outputId": "99efbca3-cb51-489c-8f6c-271d9654f76b"
      },
      "outputs": [
        {
          "metadata": {
            "tags": null
          },
          "name": "stdout",
          "output_type": "stream",
          "text": [
            "Validation Loss for Model 1: 13.6737699508667\n",
            "Validation Loss for Model 2: 14.056363105773926\n"
          ]
        }
      ],
      "source": [
        "val_loss_model1 = history1.history['val_loss'][-1]\n",
        "val_loss_model2 = history2.history['val_loss'][-1]\n",
        "\n",
        "print(f\"Validation Loss for Model 1: {val_loss_model1}\")\n",
        "print(f\"Validation Loss for Model 2: {val_loss_model2}\")\n"
      ],
      "id": "79cddef6"
    },
    {
      "cell_type": "code",
      "execution_count": null,
      "metadata": {
        "colab": {
          "base_uri": "https://localhost:8080/"
        },
        "id": "7a7969ec",
        "outputId": "1f6c8b56-d1a2-4ef1-d76c-17e6ae491f1e"
      },
      "outputs": [
        {
          "output_type": "stream",
          "name": "stdout",
          "text": [
            "Saved the best model as best_model1.h5\n"
          ]
        }
      ],
      "source": [
        "if val_loss_model1 < val_loss_model2:\n",
        "    best_model = model1\n",
        "    best_model_name = \"best_model1.h5\"\n",
        "else:\n",
        "    best_model = model2\n",
        "    best_model_name = \"best_model2.h5\"\n",
        "\n",
        "best_model.save(best_model_name)\n",
        "print(f\"Saved the best model as {best_model_name}\")\n"
      ],
      "id": "7a7969ec"
    },
    {
      "cell_type": "code",
      "execution_count": null,
      "metadata": {
        "colab": {
          "base_uri": "https://localhost:8080/"
        },
        "id": "9d6e8fe0",
        "outputId": "c18976c7-547a-40b5-f7eb-c3cbfa164237"
      },
      "outputs": [
        {
          "output_type": "stream",
          "name": "stdout",
          "text": [
            "Model 1 has 698177 parameters.\n",
            "Model 2 has 698177 parameters.\n"
          ]
        }
      ],
      "source": [
        "params_model1 = model1.count_params()\n",
        "params_model2 = model2.count_params()\n",
        "\n",
        "print(f\"Model 1 has {params_model1} parameters.\")\n",
        "print(f\"Model 2 has {params_model2} parameters.\")\n"
      ],
      "id": "9d6e8fe0"
    },
    {
      "cell_type": "code",
      "execution_count": null,
      "metadata": {
        "colab": {
          "base_uri": "https://localhost:8080/"
        },
        "id": "0c703656",
        "outputId": "db242dd2-d125-4e64-85bc-d7b2d5d9ece5"
      },
      "outputs": [
        {
          "output_type": "stream",
          "name": "stdout",
          "text": [
            "Input 5 Shona Words: tinodzidza zuva nezuva zvinoita tipase\n",
            "The next words might be: mugouya vatanga kunyomba\n"
          ]
        }
      ],
      "source": [
        "from keras.models import load_model\n",
        "from tensorflow.keras.preprocessing.sequence import pad_sequences\n",
        "\n",
        "# Load the previously saved model\n",
        "model = load_model('best_model1.h5')\n",
        "\n",
        "def predict_next_words(model, tokenizer, text, num_words=1):\n",
        "    \"\"\"\n",
        "    Predict the next set of words using the trained model.\n",
        "\n",
        "    Args:\n",
        "    - model (keras.Model): The trained model.\n",
        "    - tokenizer (Tokenizer): The tokenizer object used for preprocessing.\n",
        "    - text (str): The input text.\n",
        "    - num_words (int): The number of words to predict.\n",
        "\n",
        "    Returns:\n",
        "    - str: The predicted words.\n",
        "    \"\"\"\n",
        "    for _ in range(num_words):\n",
        "\n",
        "        sequence = tokenizer.texts_to_sequences([text])[0]\n",
        "        sequence = pad_sequences([sequence], maxlen=5, padding='pre')\n",
        "\n",
        "\n",
        "        predicted_probs = model.predict(sequence, verbose=0)\n",
        "        predicted = np.argmax(predicted_probs, axis=-1)\n",
        "\n",
        "\n",
        "        output_word = \"\"\n",
        "        for word, index in tokenizer.word_index.items():\n",
        "            if index == predicted:\n",
        "                output_word = word\n",
        "                break\n",
        "\n",
        "\n",
        "        text += \" \" + output_word\n",
        "\n",
        "    return ' '.join(text.split(' ')[-num_words:])\n",
        "\n",
        "\n",
        "# Ask the user for input\n",
        "user_input = input(\"Input 5 Shona Words: \")\n",
        "\n",
        "\n",
        "predicted_words = predict_next_words(model, tokenizer, user_input, num_words=3)\n",
        "print(f\"The next words might be: {predicted_words}\")\n"
      ],
      "id": "0c703656"
    },
    {
      "cell_type": "code",
      "execution_count": null,
      "metadata": {
        "id": "0ffb4ec5"
      },
      "outputs": [],
      "source": [],
      "id": "0ffb4ec5"
    }
  ],
  "metadata": {
    "accelerator": "TPU",
    "colab": {
      "provenance": [],
      "include_colab_link": true
    },
    "kernelspec": {
      "display_name": "Python 3",
      "name": "python3"
    },
    "language_info": {
      "codemirror_mode": {
        "name": "ipython",
        "version": 3
      },
      "file_extension": ".py",
      "mimetype": "text/x-python",
      "name": "python",
      "nbconvert_exporter": "python",
      "pygments_lexer": "ipython3",
      "version": "3.11.5"
    }
  },
  "nbformat": 4,
  "nbformat_minor": 5
}